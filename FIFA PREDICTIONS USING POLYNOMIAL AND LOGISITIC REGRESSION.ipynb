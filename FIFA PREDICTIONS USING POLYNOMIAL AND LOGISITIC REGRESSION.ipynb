{
 "cells": [
  {
   "cell_type": "markdown",
   "metadata": {},
   "source": [
    "# USING POLYNOMIAL AND LOGISTIC REGRESSION TO PREDICT FIFA MATCH RESULTS"
   ]
  },
  {
   "cell_type": "markdown",
   "metadata": {},
   "source": [
    "## Defining the Question"
   ]
  },
  {
   "cell_type": "markdown",
   "metadata": {},
   "source": [
    "You have been recruited as a football analyst in a company - Mchezopesa Ltd and tasked to accomplish the task below.\n",
    "\n",
    "A prediction result of a game between team 1 and team 2, based on who's home and who's away, and on whether or not the game is friendly (include rank in your training)."
   ]
  },
  {
   "cell_type": "markdown",
   "metadata": {},
   "source": [
    "## Defining the Metric of Success"
   ]
  },
  {
   "cell_type": "markdown",
   "metadata": {},
   "source": [
    "The project will be considered a success if it can produce a model that can accurately and consistently(without overfitting and underfitting on training data) predict results of FIFA matches."
   ]
  },
  {
   "cell_type": "markdown",
   "metadata": {},
   "source": [
    "## Data Relevance"
   ]
  },
  {
   "cell_type": "markdown",
   "metadata": {},
   "source": [
    "The dataset can be found [here](https://drive.google.com/open?id=1BYUqaEEnFtAe5lvzJh9lpVpR2MAvERUc)\n",
    "\n",
    "A glossary of the dataset is as follows:\n",
    "\n",
    "* Rank\n",
    "* Country Abbreviation\n",
    "* Total Points\n",
    "* Previous Points\n",
    "* Rank Change\n",
    "* Average Previous Years Points\n",
    "* Average Previous Years Points Weighted (50%)\n",
    "* Average 2 Years Ago Points\n",
    "* Average 2 Years Ago Points Weighted (30%)\n",
    "* Average 3 Years Ago Points\n",
    "* Average 3 Years Ago Points Weighted (20%)\n",
    "* Confederation\n",
    "* Date - date of the match\n",
    "* Home_team - the name of the home team\n",
    "* Away_team - the name of the away team\n",
    "* Home_score - full-time home team score including extra time, not including penalty-shootouts\n",
    "* Away_score - full-time away team score including extra time, not including penalty-shootouts\n",
    "* Tournament - the name of the tournament\n",
    "* City - the name of the city/town/administrative unit where the match was played\n",
    "* Country - the name of the country where the match was played\n",
    "* Neutral - TRUE/FALSE column indicating whether the match was played at a neutral venue"
   ]
  },
  {
   "cell_type": "markdown",
   "metadata": {},
   "source": [
    "## Recording the Experimental Design"
   ]
  },
  {
   "cell_type": "markdown",
   "metadata": {},
   "source": [
    "* Loading the dataset\n",
    "* Cleaning the dataset\n",
    "* Performing Exploratory Data Analysis\n",
    "* Building a Polynomial Regression Model\n",
    "* Building a Logistic Regression Model\n",
    "* Recommendations"
   ]
  },
  {
   "cell_type": "markdown",
   "metadata": {},
   "source": [
    "## Loading the Libraries"
   ]
  },
  {
   "cell_type": "code",
   "execution_count": 291,
   "metadata": {},
   "outputs": [],
   "source": [
    "import pandas as pd\n",
    "import numpy as np\n",
    "import matplotlib.pyplot as plt\n",
    "import seaborn as sns\n",
    "from sklearn.metrics import mean_squared_error, confusion_matrix, classification_report\n",
    "from sklearn.linear_model import LogisticRegression, LinearRegression\n",
    "from sklearn.model_selection import train_test_split, cross_val_score\n",
    "from sklearn.preprocessing import PolynomialFeatures, LabelEncoder\n",
    "from yellowbrick.model_selection import validation_curve"
   ]
  },
  {
   "cell_type": "markdown",
   "metadata": {},
   "source": [
    "## Loading the Data"
   ]
  },
  {
   "cell_type": "code",
   "execution_count": 292,
   "metadata": {},
   "outputs": [
    {
     "data": {
      "text/html": [
       "<div>\n",
       "<style scoped>\n",
       "    .dataframe tbody tr th:only-of-type {\n",
       "        vertical-align: middle;\n",
       "    }\n",
       "\n",
       "    .dataframe tbody tr th {\n",
       "        vertical-align: top;\n",
       "    }\n",
       "\n",
       "    .dataframe thead th {\n",
       "        text-align: right;\n",
       "    }\n",
       "</style>\n",
       "<table border=\"1\" class=\"dataframe\">\n",
       "  <thead>\n",
       "    <tr style=\"text-align: right;\">\n",
       "      <th></th>\n",
       "      <th>date</th>\n",
       "      <th>home_team</th>\n",
       "      <th>away_team</th>\n",
       "      <th>home_score</th>\n",
       "      <th>away_score</th>\n",
       "      <th>tournament</th>\n",
       "      <th>city</th>\n",
       "      <th>country</th>\n",
       "      <th>neutral</th>\n",
       "    </tr>\n",
       "  </thead>\n",
       "  <tbody>\n",
       "    <tr>\n",
       "      <th>0</th>\n",
       "      <td>1872-11-30</td>\n",
       "      <td>Scotland</td>\n",
       "      <td>England</td>\n",
       "      <td>0</td>\n",
       "      <td>0</td>\n",
       "      <td>Friendly</td>\n",
       "      <td>Glasgow</td>\n",
       "      <td>Scotland</td>\n",
       "      <td>False</td>\n",
       "    </tr>\n",
       "    <tr>\n",
       "      <th>1</th>\n",
       "      <td>1873-03-08</td>\n",
       "      <td>England</td>\n",
       "      <td>Scotland</td>\n",
       "      <td>4</td>\n",
       "      <td>2</td>\n",
       "      <td>Friendly</td>\n",
       "      <td>London</td>\n",
       "      <td>England</td>\n",
       "      <td>False</td>\n",
       "    </tr>\n",
       "    <tr>\n",
       "      <th>2</th>\n",
       "      <td>1874-03-07</td>\n",
       "      <td>Scotland</td>\n",
       "      <td>England</td>\n",
       "      <td>2</td>\n",
       "      <td>1</td>\n",
       "      <td>Friendly</td>\n",
       "      <td>Glasgow</td>\n",
       "      <td>Scotland</td>\n",
       "      <td>False</td>\n",
       "    </tr>\n",
       "    <tr>\n",
       "      <th>3</th>\n",
       "      <td>1875-03-06</td>\n",
       "      <td>England</td>\n",
       "      <td>Scotland</td>\n",
       "      <td>2</td>\n",
       "      <td>2</td>\n",
       "      <td>Friendly</td>\n",
       "      <td>London</td>\n",
       "      <td>England</td>\n",
       "      <td>False</td>\n",
       "    </tr>\n",
       "    <tr>\n",
       "      <th>4</th>\n",
       "      <td>1876-03-04</td>\n",
       "      <td>Scotland</td>\n",
       "      <td>England</td>\n",
       "      <td>3</td>\n",
       "      <td>0</td>\n",
       "      <td>Friendly</td>\n",
       "      <td>Glasgow</td>\n",
       "      <td>Scotland</td>\n",
       "      <td>False</td>\n",
       "    </tr>\n",
       "  </tbody>\n",
       "</table>\n",
       "</div>"
      ],
      "text/plain": [
       "         date home_team away_team  home_score  away_score tournament     city  \\\n",
       "0  1872-11-30  Scotland   England           0           0   Friendly  Glasgow   \n",
       "1  1873-03-08   England  Scotland           4           2   Friendly   London   \n",
       "2  1874-03-07  Scotland   England           2           1   Friendly  Glasgow   \n",
       "3  1875-03-06   England  Scotland           2           2   Friendly   London   \n",
       "4  1876-03-04  Scotland   England           3           0   Friendly  Glasgow   \n",
       "\n",
       "    country  neutral  \n",
       "0  Scotland    False  \n",
       "1   England    False  \n",
       "2  Scotland    False  \n",
       "3   England    False  \n",
       "4  Scotland    False  "
      ]
     },
     "execution_count": 292,
     "metadata": {},
     "output_type": "execute_result"
    }
   ],
   "source": [
    "results = pd.read_csv(\"C:\\\\Users\\\\LENOVO\\\\Downloads\\\\Week 6 IP Datasets\\\\results.csv\")\n",
    "results.head()"
   ]
  },
  {
   "cell_type": "code",
   "execution_count": 293,
   "metadata": {},
   "outputs": [
    {
     "data": {
      "text/html": [
       "<div>\n",
       "<style scoped>\n",
       "    .dataframe tbody tr th:only-of-type {\n",
       "        vertical-align: middle;\n",
       "    }\n",
       "\n",
       "    .dataframe tbody tr th {\n",
       "        vertical-align: top;\n",
       "    }\n",
       "\n",
       "    .dataframe thead th {\n",
       "        text-align: right;\n",
       "    }\n",
       "</style>\n",
       "<table border=\"1\" class=\"dataframe\">\n",
       "  <thead>\n",
       "    <tr style=\"text-align: right;\">\n",
       "      <th></th>\n",
       "      <th>rank</th>\n",
       "      <th>country_full</th>\n",
       "      <th>country_abrv</th>\n",
       "      <th>total_points</th>\n",
       "      <th>previous_points</th>\n",
       "      <th>rank_change</th>\n",
       "      <th>cur_year_avg</th>\n",
       "      <th>cur_year_avg_weighted</th>\n",
       "      <th>last_year_avg</th>\n",
       "      <th>last_year_avg_weighted</th>\n",
       "      <th>two_year_ago_avg</th>\n",
       "      <th>two_year_ago_weighted</th>\n",
       "      <th>three_year_ago_avg</th>\n",
       "      <th>three_year_ago_weighted</th>\n",
       "      <th>confederation</th>\n",
       "      <th>rank_date</th>\n",
       "    </tr>\n",
       "  </thead>\n",
       "  <tbody>\n",
       "    <tr>\n",
       "      <th>0</th>\n",
       "      <td>1</td>\n",
       "      <td>Germany</td>\n",
       "      <td>GER</td>\n",
       "      <td>0.0</td>\n",
       "      <td>57</td>\n",
       "      <td>0</td>\n",
       "      <td>0.0</td>\n",
       "      <td>0.0</td>\n",
       "      <td>0.0</td>\n",
       "      <td>0.0</td>\n",
       "      <td>0.0</td>\n",
       "      <td>0.0</td>\n",
       "      <td>0.0</td>\n",
       "      <td>0.0</td>\n",
       "      <td>UEFA</td>\n",
       "      <td>1993-08-08</td>\n",
       "    </tr>\n",
       "    <tr>\n",
       "      <th>1</th>\n",
       "      <td>2</td>\n",
       "      <td>Italy</td>\n",
       "      <td>ITA</td>\n",
       "      <td>0.0</td>\n",
       "      <td>57</td>\n",
       "      <td>0</td>\n",
       "      <td>0.0</td>\n",
       "      <td>0.0</td>\n",
       "      <td>0.0</td>\n",
       "      <td>0.0</td>\n",
       "      <td>0.0</td>\n",
       "      <td>0.0</td>\n",
       "      <td>0.0</td>\n",
       "      <td>0.0</td>\n",
       "      <td>UEFA</td>\n",
       "      <td>1993-08-08</td>\n",
       "    </tr>\n",
       "    <tr>\n",
       "      <th>2</th>\n",
       "      <td>3</td>\n",
       "      <td>Switzerland</td>\n",
       "      <td>SUI</td>\n",
       "      <td>0.0</td>\n",
       "      <td>50</td>\n",
       "      <td>9</td>\n",
       "      <td>0.0</td>\n",
       "      <td>0.0</td>\n",
       "      <td>0.0</td>\n",
       "      <td>0.0</td>\n",
       "      <td>0.0</td>\n",
       "      <td>0.0</td>\n",
       "      <td>0.0</td>\n",
       "      <td>0.0</td>\n",
       "      <td>UEFA</td>\n",
       "      <td>1993-08-08</td>\n",
       "    </tr>\n",
       "    <tr>\n",
       "      <th>3</th>\n",
       "      <td>4</td>\n",
       "      <td>Sweden</td>\n",
       "      <td>SWE</td>\n",
       "      <td>0.0</td>\n",
       "      <td>55</td>\n",
       "      <td>0</td>\n",
       "      <td>0.0</td>\n",
       "      <td>0.0</td>\n",
       "      <td>0.0</td>\n",
       "      <td>0.0</td>\n",
       "      <td>0.0</td>\n",
       "      <td>0.0</td>\n",
       "      <td>0.0</td>\n",
       "      <td>0.0</td>\n",
       "      <td>UEFA</td>\n",
       "      <td>1993-08-08</td>\n",
       "    </tr>\n",
       "    <tr>\n",
       "      <th>4</th>\n",
       "      <td>5</td>\n",
       "      <td>Argentina</td>\n",
       "      <td>ARG</td>\n",
       "      <td>0.0</td>\n",
       "      <td>51</td>\n",
       "      <td>5</td>\n",
       "      <td>0.0</td>\n",
       "      <td>0.0</td>\n",
       "      <td>0.0</td>\n",
       "      <td>0.0</td>\n",
       "      <td>0.0</td>\n",
       "      <td>0.0</td>\n",
       "      <td>0.0</td>\n",
       "      <td>0.0</td>\n",
       "      <td>CONMEBOL</td>\n",
       "      <td>1993-08-08</td>\n",
       "    </tr>\n",
       "  </tbody>\n",
       "</table>\n",
       "</div>"
      ],
      "text/plain": [
       "   rank country_full country_abrv  total_points  previous_points  rank_change  \\\n",
       "0     1      Germany          GER           0.0               57            0   \n",
       "1     2        Italy          ITA           0.0               57            0   \n",
       "2     3  Switzerland          SUI           0.0               50            9   \n",
       "3     4       Sweden          SWE           0.0               55            0   \n",
       "4     5    Argentina          ARG           0.0               51            5   \n",
       "\n",
       "   cur_year_avg  cur_year_avg_weighted  last_year_avg  last_year_avg_weighted  \\\n",
       "0           0.0                    0.0            0.0                     0.0   \n",
       "1           0.0                    0.0            0.0                     0.0   \n",
       "2           0.0                    0.0            0.0                     0.0   \n",
       "3           0.0                    0.0            0.0                     0.0   \n",
       "4           0.0                    0.0            0.0                     0.0   \n",
       "\n",
       "   two_year_ago_avg  two_year_ago_weighted  three_year_ago_avg  \\\n",
       "0               0.0                    0.0                 0.0   \n",
       "1               0.0                    0.0                 0.0   \n",
       "2               0.0                    0.0                 0.0   \n",
       "3               0.0                    0.0                 0.0   \n",
       "4               0.0                    0.0                 0.0   \n",
       "\n",
       "   three_year_ago_weighted confederation   rank_date  \n",
       "0                      0.0          UEFA  1993-08-08  \n",
       "1                      0.0          UEFA  1993-08-08  \n",
       "2                      0.0          UEFA  1993-08-08  \n",
       "3                      0.0          UEFA  1993-08-08  \n",
       "4                      0.0      CONMEBOL  1993-08-08  "
      ]
     },
     "execution_count": 293,
     "metadata": {},
     "output_type": "execute_result"
    }
   ],
   "source": [
    "ranks = pd.read_csv(\"C:\\\\Users\\\\LENOVO\\\\Downloads\\\\Week 6 IP Datasets\\\\fifa_ranking.csv\")\n",
    "ranks.head()"
   ]
  },
  {
   "cell_type": "markdown",
   "metadata": {},
   "source": [
    "## Data Cleaning"
   ]
  },
  {
   "cell_type": "markdown",
   "metadata": {},
   "source": [
    "### Merging the Two Datasets"
   ]
  },
  {
   "cell_type": "code",
   "execution_count": 294,
   "metadata": {},
   "outputs": [],
   "source": [
    "# before merge, drop unnecessary columns\n",
    "\n",
    "results.drop(['city', 'country', 'neutral'], axis=1, inplace=True)\n",
    "\n",
    "ranks = ranks[['rank', 'country_full', 'rank_date']]"
   ]
  },
  {
   "cell_type": "code",
   "execution_count": 295,
   "metadata": {},
   "outputs": [
    {
     "data": {
      "text/html": [
       "<div>\n",
       "<style scoped>\n",
       "    .dataframe tbody tr th:only-of-type {\n",
       "        vertical-align: middle;\n",
       "    }\n",
       "\n",
       "    .dataframe tbody tr th {\n",
       "        vertical-align: top;\n",
       "    }\n",
       "\n",
       "    .dataframe thead th {\n",
       "        text-align: right;\n",
       "    }\n",
       "</style>\n",
       "<table border=\"1\" class=\"dataframe\">\n",
       "  <thead>\n",
       "    <tr style=\"text-align: right;\">\n",
       "      <th></th>\n",
       "      <th>rank</th>\n",
       "      <th>country_full</th>\n",
       "      <th>rank_date</th>\n",
       "    </tr>\n",
       "  </thead>\n",
       "  <tbody>\n",
       "    <tr>\n",
       "      <th>0</th>\n",
       "      <td>1</td>\n",
       "      <td>Germany</td>\n",
       "      <td>1993-08-08</td>\n",
       "    </tr>\n",
       "    <tr>\n",
       "      <th>1</th>\n",
       "      <td>2</td>\n",
       "      <td>Italy</td>\n",
       "      <td>1993-08-08</td>\n",
       "    </tr>\n",
       "    <tr>\n",
       "      <th>2</th>\n",
       "      <td>3</td>\n",
       "      <td>Switzerland</td>\n",
       "      <td>1993-08-08</td>\n",
       "    </tr>\n",
       "    <tr>\n",
       "      <th>3</th>\n",
       "      <td>4</td>\n",
       "      <td>Sweden</td>\n",
       "      <td>1993-08-08</td>\n",
       "    </tr>\n",
       "    <tr>\n",
       "      <th>4</th>\n",
       "      <td>5</td>\n",
       "      <td>Argentina</td>\n",
       "      <td>1993-08-08</td>\n",
       "    </tr>\n",
       "  </tbody>\n",
       "</table>\n",
       "</div>"
      ],
      "text/plain": [
       "   rank country_full   rank_date\n",
       "0     1      Germany  1993-08-08\n",
       "1     2        Italy  1993-08-08\n",
       "2     3  Switzerland  1993-08-08\n",
       "3     4       Sweden  1993-08-08\n",
       "4     5    Argentina  1993-08-08"
      ]
     },
     "execution_count": 295,
     "metadata": {},
     "output_type": "execute_result"
    }
   ],
   "source": [
    "ranks.head()"
   ]
  },
  {
   "cell_type": "code",
   "execution_count": 296,
   "metadata": {},
   "outputs": [
    {
     "data": {
      "text/html": [
       "<div>\n",
       "<style scoped>\n",
       "    .dataframe tbody tr th:only-of-type {\n",
       "        vertical-align: middle;\n",
       "    }\n",
       "\n",
       "    .dataframe tbody tr th {\n",
       "        vertical-align: top;\n",
       "    }\n",
       "\n",
       "    .dataframe thead th {\n",
       "        text-align: right;\n",
       "    }\n",
       "</style>\n",
       "<table border=\"1\" class=\"dataframe\">\n",
       "  <thead>\n",
       "    <tr style=\"text-align: right;\">\n",
       "      <th></th>\n",
       "      <th>date</th>\n",
       "      <th>home_team</th>\n",
       "      <th>away_team</th>\n",
       "      <th>home_score</th>\n",
       "      <th>away_score</th>\n",
       "      <th>tournament</th>\n",
       "    </tr>\n",
       "  </thead>\n",
       "  <tbody>\n",
       "    <tr>\n",
       "      <th>0</th>\n",
       "      <td>1872-11-30</td>\n",
       "      <td>Scotland</td>\n",
       "      <td>England</td>\n",
       "      <td>0</td>\n",
       "      <td>0</td>\n",
       "      <td>Friendly</td>\n",
       "    </tr>\n",
       "    <tr>\n",
       "      <th>1</th>\n",
       "      <td>1873-03-08</td>\n",
       "      <td>England</td>\n",
       "      <td>Scotland</td>\n",
       "      <td>4</td>\n",
       "      <td>2</td>\n",
       "      <td>Friendly</td>\n",
       "    </tr>\n",
       "    <tr>\n",
       "      <th>2</th>\n",
       "      <td>1874-03-07</td>\n",
       "      <td>Scotland</td>\n",
       "      <td>England</td>\n",
       "      <td>2</td>\n",
       "      <td>1</td>\n",
       "      <td>Friendly</td>\n",
       "    </tr>\n",
       "    <tr>\n",
       "      <th>3</th>\n",
       "      <td>1875-03-06</td>\n",
       "      <td>England</td>\n",
       "      <td>Scotland</td>\n",
       "      <td>2</td>\n",
       "      <td>2</td>\n",
       "      <td>Friendly</td>\n",
       "    </tr>\n",
       "    <tr>\n",
       "      <th>4</th>\n",
       "      <td>1876-03-04</td>\n",
       "      <td>Scotland</td>\n",
       "      <td>England</td>\n",
       "      <td>3</td>\n",
       "      <td>0</td>\n",
       "      <td>Friendly</td>\n",
       "    </tr>\n",
       "  </tbody>\n",
       "</table>\n",
       "</div>"
      ],
      "text/plain": [
       "         date home_team away_team  home_score  away_score tournament\n",
       "0  1872-11-30  Scotland   England           0           0   Friendly\n",
       "1  1873-03-08   England  Scotland           4           2   Friendly\n",
       "2  1874-03-07  Scotland   England           2           1   Friendly\n",
       "3  1875-03-06   England  Scotland           2           2   Friendly\n",
       "4  1876-03-04  Scotland   England           3           0   Friendly"
      ]
     },
     "execution_count": 296,
     "metadata": {},
     "output_type": "execute_result"
    }
   ],
   "source": [
    "results.head()"
   ]
  },
  {
   "cell_type": "code",
   "execution_count": 297,
   "metadata": {},
   "outputs": [],
   "source": [
    "# home team\n",
    "home = pd.merge(results, ranks, how='inner',\n",
    "               left_on=['date', 'home_team'],\n",
    "               right_on=['rank_date', 'country_full'])\n",
    "\n",
    "# away teams\n",
    "\n",
    "away = pd.merge(results, ranks, how='inner',\n",
    "               left_on=['date', 'away_team'],\n",
    "               right_on=['rank_date', 'country_full'])\n",
    "\n",
    "\n",
    "\n",
    "# merged document\n",
    "\n",
    "df = pd.merge(home, away, how='inner',\n",
    "             left_on= ['date', 'home_team', 'away_team', 'home_score', 'away_score', 'tournament'],\n",
    "             right_on = ['date', 'home_team', 'away_team', 'home_score', 'away_score', 'tournament'])"
   ]
  },
  {
   "cell_type": "code",
   "execution_count": 298,
   "metadata": {},
   "outputs": [
    {
     "data": {
      "text/html": [
       "<div>\n",
       "<style scoped>\n",
       "    .dataframe tbody tr th:only-of-type {\n",
       "        vertical-align: middle;\n",
       "    }\n",
       "\n",
       "    .dataframe tbody tr th {\n",
       "        vertical-align: top;\n",
       "    }\n",
       "\n",
       "    .dataframe thead th {\n",
       "        text-align: right;\n",
       "    }\n",
       "</style>\n",
       "<table border=\"1\" class=\"dataframe\">\n",
       "  <thead>\n",
       "    <tr style=\"text-align: right;\">\n",
       "      <th></th>\n",
       "      <th>date</th>\n",
       "      <th>home_team</th>\n",
       "      <th>away_team</th>\n",
       "      <th>home_score</th>\n",
       "      <th>away_score</th>\n",
       "      <th>tournament</th>\n",
       "      <th>rank_x</th>\n",
       "      <th>country_full_x</th>\n",
       "      <th>rank_date_x</th>\n",
       "      <th>rank_y</th>\n",
       "      <th>country_full_y</th>\n",
       "      <th>rank_date_y</th>\n",
       "    </tr>\n",
       "  </thead>\n",
       "  <tbody>\n",
       "    <tr>\n",
       "      <th>0</th>\n",
       "      <td>1993-08-08</td>\n",
       "      <td>Bolivia</td>\n",
       "      <td>Uruguay</td>\n",
       "      <td>3</td>\n",
       "      <td>1</td>\n",
       "      <td>FIFA World Cup qualification</td>\n",
       "      <td>59</td>\n",
       "      <td>Bolivia</td>\n",
       "      <td>1993-08-08</td>\n",
       "      <td>22</td>\n",
       "      <td>Uruguay</td>\n",
       "      <td>1993-08-08</td>\n",
       "    </tr>\n",
       "    <tr>\n",
       "      <th>1</th>\n",
       "      <td>1993-08-08</td>\n",
       "      <td>Brazil</td>\n",
       "      <td>Mexico</td>\n",
       "      <td>1</td>\n",
       "      <td>1</td>\n",
       "      <td>Friendly</td>\n",
       "      <td>8</td>\n",
       "      <td>Brazil</td>\n",
       "      <td>1993-08-08</td>\n",
       "      <td>14</td>\n",
       "      <td>Mexico</td>\n",
       "      <td>1993-08-08</td>\n",
       "    </tr>\n",
       "    <tr>\n",
       "      <th>2</th>\n",
       "      <td>1993-08-08</td>\n",
       "      <td>Ecuador</td>\n",
       "      <td>Venezuela</td>\n",
       "      <td>5</td>\n",
       "      <td>0</td>\n",
       "      <td>FIFA World Cup qualification</td>\n",
       "      <td>35</td>\n",
       "      <td>Ecuador</td>\n",
       "      <td>1993-08-08</td>\n",
       "      <td>94</td>\n",
       "      <td>Venezuela</td>\n",
       "      <td>1993-08-08</td>\n",
       "    </tr>\n",
       "    <tr>\n",
       "      <th>3</th>\n",
       "      <td>1993-08-08</td>\n",
       "      <td>Guinea</td>\n",
       "      <td>Sierra Leone</td>\n",
       "      <td>1</td>\n",
       "      <td>0</td>\n",
       "      <td>Friendly</td>\n",
       "      <td>65</td>\n",
       "      <td>Guinea</td>\n",
       "      <td>1993-08-08</td>\n",
       "      <td>86</td>\n",
       "      <td>Sierra Leone</td>\n",
       "      <td>1993-08-08</td>\n",
       "    </tr>\n",
       "    <tr>\n",
       "      <th>4</th>\n",
       "      <td>1993-08-08</td>\n",
       "      <td>Paraguay</td>\n",
       "      <td>Argentina</td>\n",
       "      <td>1</td>\n",
       "      <td>3</td>\n",
       "      <td>FIFA World Cup qualification</td>\n",
       "      <td>67</td>\n",
       "      <td>Paraguay</td>\n",
       "      <td>1993-08-08</td>\n",
       "      <td>5</td>\n",
       "      <td>Argentina</td>\n",
       "      <td>1993-08-08</td>\n",
       "    </tr>\n",
       "  </tbody>\n",
       "</table>\n",
       "</div>"
      ],
      "text/plain": [
       "         date home_team     away_team  home_score  away_score  \\\n",
       "0  1993-08-08   Bolivia       Uruguay           3           1   \n",
       "1  1993-08-08    Brazil        Mexico           1           1   \n",
       "2  1993-08-08   Ecuador     Venezuela           5           0   \n",
       "3  1993-08-08    Guinea  Sierra Leone           1           0   \n",
       "4  1993-08-08  Paraguay     Argentina           1           3   \n",
       "\n",
       "                     tournament  rank_x country_full_x rank_date_x  rank_y  \\\n",
       "0  FIFA World Cup qualification      59        Bolivia  1993-08-08      22   \n",
       "1                      Friendly       8         Brazil  1993-08-08      14   \n",
       "2  FIFA World Cup qualification      35        Ecuador  1993-08-08      94   \n",
       "3                      Friendly      65         Guinea  1993-08-08      86   \n",
       "4  FIFA World Cup qualification      67       Paraguay  1993-08-08       5   \n",
       "\n",
       "  country_full_y rank_date_y  \n",
       "0        Uruguay  1993-08-08  \n",
       "1         Mexico  1993-08-08  \n",
       "2      Venezuela  1993-08-08  \n",
       "3   Sierra Leone  1993-08-08  \n",
       "4      Argentina  1993-08-08  "
      ]
     },
     "execution_count": 298,
     "metadata": {},
     "output_type": "execute_result"
    }
   ],
   "source": [
    "df.head()"
   ]
  },
  {
   "cell_type": "markdown",
   "metadata": {},
   "source": [
    "### Dropping unnecessary columns"
   ]
  },
  {
   "cell_type": "code",
   "execution_count": 299,
   "metadata": {},
   "outputs": [],
   "source": [
    "df.drop(['date','country_full_x', 'country_full_y', 'rank_date_x', 'rank_date_y'], axis=1, inplace=True)"
   ]
  },
  {
   "cell_type": "markdown",
   "metadata": {},
   "source": [
    "### Consistency"
   ]
  },
  {
   "cell_type": "code",
   "execution_count": 300,
   "metadata": {},
   "outputs": [
    {
     "data": {
      "text/plain": [
       "0"
      ]
     },
     "execution_count": 300,
     "metadata": {},
     "output_type": "execute_result"
    }
   ],
   "source": [
    "df.duplicated().sum()"
   ]
  },
  {
   "cell_type": "markdown",
   "metadata": {},
   "source": [
    "### Completeness"
   ]
  },
  {
   "cell_type": "code",
   "execution_count": 301,
   "metadata": {},
   "outputs": [
    {
     "data": {
      "text/plain": [
       "home_team     0\n",
       "away_team     0\n",
       "home_score    0\n",
       "away_score    0\n",
       "tournament    0\n",
       "rank_x        0\n",
       "rank_y        0\n",
       "dtype: int64"
      ]
     },
     "execution_count": 301,
     "metadata": {},
     "output_type": "execute_result"
    }
   ],
   "source": [
    "df.isnull().sum()"
   ]
  },
  {
   "cell_type": "markdown",
   "metadata": {},
   "source": [
    "### Dataset information"
   ]
  },
  {
   "cell_type": "code",
   "execution_count": 302,
   "metadata": {},
   "outputs": [
    {
     "name": "stdout",
     "output_type": "stream",
     "text": [
      "<class 'pandas.core.frame.DataFrame'>\n",
      "Int64Index: 871 entries, 0 to 870\n",
      "Data columns (total 7 columns):\n",
      " #   Column      Non-Null Count  Dtype \n",
      "---  ------      --------------  ----- \n",
      " 0   home_team   871 non-null    object\n",
      " 1   away_team   871 non-null    object\n",
      " 2   home_score  871 non-null    int64 \n",
      " 3   away_score  871 non-null    int64 \n",
      " 4   tournament  871 non-null    object\n",
      " 5   rank_x      871 non-null    int64 \n",
      " 6   rank_y      871 non-null    int64 \n",
      "dtypes: int64(4), object(3)\n",
      "memory usage: 54.4+ KB\n"
     ]
    }
   ],
   "source": [
    "df.info()"
   ]
  },
  {
   "cell_type": "code",
   "execution_count": 303,
   "metadata": {},
   "outputs": [
    {
     "data": {
      "text/plain": [
       "(871, 7)"
      ]
     },
     "execution_count": 303,
     "metadata": {},
     "output_type": "execute_result"
    }
   ],
   "source": [
    "df.shape"
   ]
  },
  {
   "cell_type": "markdown",
   "metadata": {},
   "source": [
    "### Column Accuracy"
   ]
  },
  {
   "cell_type": "code",
   "execution_count": 304,
   "metadata": {},
   "outputs": [
    {
     "data": {
      "text/plain": [
       "Index(['home_team', 'away_team', 'home_score', 'away_score', 'tournament',\n",
       "       'home_rank', 'away_rank'],\n",
       "      dtype='object')"
      ]
     },
     "execution_count": 304,
     "metadata": {},
     "output_type": "execute_result"
    }
   ],
   "source": [
    "# renaming some columns\n",
    "\n",
    "df.rename(columns={'rank_x' : 'home_rank',\n",
    "                  'rank_y' : 'away_rank'}, inplace=True)\n",
    "\n",
    "df.columns"
   ]
  },
  {
   "cell_type": "code",
   "execution_count": 305,
   "metadata": {},
   "outputs": [],
   "source": [
    "# creating a match status column from the perspective of the\n",
    "\n",
    "df['status'] = df['home_score'] - df['away_score']\n",
    "\n",
    "for pos, val in enumerate(df['status']):\n",
    "    if  val < 0:\n",
    "        df.iloc[pos, 7] = 'L'\n",
    "\n",
    "    elif val > 0:\n",
    "        df.iloc[pos, 7] = 'W'\n",
    "\n",
    "    elif val == 0:\n",
    "        df.iloc[pos, 7] = 'D'"
   ]
  },
  {
   "cell_type": "code",
   "execution_count": 306,
   "metadata": {},
   "outputs": [
    {
     "data": {
      "text/html": [
       "<div>\n",
       "<style scoped>\n",
       "    .dataframe tbody tr th:only-of-type {\n",
       "        vertical-align: middle;\n",
       "    }\n",
       "\n",
       "    .dataframe tbody tr th {\n",
       "        vertical-align: top;\n",
       "    }\n",
       "\n",
       "    .dataframe thead th {\n",
       "        text-align: right;\n",
       "    }\n",
       "</style>\n",
       "<table border=\"1\" class=\"dataframe\">\n",
       "  <thead>\n",
       "    <tr style=\"text-align: right;\">\n",
       "      <th></th>\n",
       "      <th>home_team</th>\n",
       "      <th>away_team</th>\n",
       "      <th>home_score</th>\n",
       "      <th>away_score</th>\n",
       "      <th>tournament</th>\n",
       "      <th>home_rank</th>\n",
       "      <th>away_rank</th>\n",
       "      <th>status</th>\n",
       "    </tr>\n",
       "  </thead>\n",
       "  <tbody>\n",
       "    <tr>\n",
       "      <th>0</th>\n",
       "      <td>Bolivia</td>\n",
       "      <td>Uruguay</td>\n",
       "      <td>3</td>\n",
       "      <td>1</td>\n",
       "      <td>FIFA World Cup qualification</td>\n",
       "      <td>59</td>\n",
       "      <td>22</td>\n",
       "      <td>W</td>\n",
       "    </tr>\n",
       "    <tr>\n",
       "      <th>1</th>\n",
       "      <td>Brazil</td>\n",
       "      <td>Mexico</td>\n",
       "      <td>1</td>\n",
       "      <td>1</td>\n",
       "      <td>Friendly</td>\n",
       "      <td>8</td>\n",
       "      <td>14</td>\n",
       "      <td>D</td>\n",
       "    </tr>\n",
       "    <tr>\n",
       "      <th>2</th>\n",
       "      <td>Ecuador</td>\n",
       "      <td>Venezuela</td>\n",
       "      <td>5</td>\n",
       "      <td>0</td>\n",
       "      <td>FIFA World Cup qualification</td>\n",
       "      <td>35</td>\n",
       "      <td>94</td>\n",
       "      <td>W</td>\n",
       "    </tr>\n",
       "    <tr>\n",
       "      <th>3</th>\n",
       "      <td>Guinea</td>\n",
       "      <td>Sierra Leone</td>\n",
       "      <td>1</td>\n",
       "      <td>0</td>\n",
       "      <td>Friendly</td>\n",
       "      <td>65</td>\n",
       "      <td>86</td>\n",
       "      <td>W</td>\n",
       "    </tr>\n",
       "    <tr>\n",
       "      <th>4</th>\n",
       "      <td>Paraguay</td>\n",
       "      <td>Argentina</td>\n",
       "      <td>1</td>\n",
       "      <td>3</td>\n",
       "      <td>FIFA World Cup qualification</td>\n",
       "      <td>67</td>\n",
       "      <td>5</td>\n",
       "      <td>L</td>\n",
       "    </tr>\n",
       "  </tbody>\n",
       "</table>\n",
       "</div>"
      ],
      "text/plain": [
       "  home_team     away_team  home_score  away_score  \\\n",
       "0   Bolivia       Uruguay           3           1   \n",
       "1    Brazil        Mexico           1           1   \n",
       "2   Ecuador     Venezuela           5           0   \n",
       "3    Guinea  Sierra Leone           1           0   \n",
       "4  Paraguay     Argentina           1           3   \n",
       "\n",
       "                     tournament  home_rank  away_rank status  \n",
       "0  FIFA World Cup qualification         59         22      W  \n",
       "1                      Friendly          8         14      D  \n",
       "2  FIFA World Cup qualification         35         94      W  \n",
       "3                      Friendly         65         86      W  \n",
       "4  FIFA World Cup qualification         67          5      L  "
      ]
     },
     "execution_count": 306,
     "metadata": {},
     "output_type": "execute_result"
    }
   ],
   "source": [
    "df.head()"
   ]
  },
  {
   "cell_type": "code",
   "execution_count": 307,
   "metadata": {},
   "outputs": [
    {
     "data": {
      "text/plain": [
       "array(['FIFA World Cup qualification', 'Friendly', 'Merdeka Tournament',\n",
       "       'South Pacific Games', 'African Cup of Nations',\n",
       "       'CFU Caribbean Cup qualification', 'Copa América',\n",
       "       'UEFA Euro qualification',\n",
       "       'United Arab Emirates Friendship Tournament', 'UNCAF Cup',\n",
       "       'Korea Cup', 'Gold Cup', 'AFC Asian Cup qualification', 'USA Cup',\n",
       "       'Millennium Cup', \"King's Cup\", 'CFU Caribbean Cup', 'Gulf Cup',\n",
       "       'Cyprus International Tournament',\n",
       "       'Malta International Tournament', 'UAFA Cup', 'AFF Championship',\n",
       "       'SAFF Cup', 'Gold Cup qualification', \"Prime Minister's Cup\",\n",
       "       'Confederations Cup', 'AFC Asian Cup', 'Nehru Cup', 'COSAFA Cup',\n",
       "       'CECAFA Cup', 'EAFF Championship',\n",
       "       'AFC Challenge Cup qualification',\n",
       "       'African Cup of Nations qualification', 'Copa del Pacífico',\n",
       "       'Oceania Nations Cup', 'African Nations Championship',\n",
       "       'Windward Islands Tournament', 'Intercontinental Cup'],\n",
       "      dtype=object)"
      ]
     },
     "execution_count": 307,
     "metadata": {},
     "output_type": "execute_result"
    }
   ],
   "source": [
    "# tournament column should only have three levels:\n",
    "#  World Cup, 'Friendly' and Other\n",
    "\n",
    "df['tournament'].unique()"
   ]
  },
  {
   "cell_type": "code",
   "execution_count": 308,
   "metadata": {},
   "outputs": [],
   "source": [
    "for pos, val in enumerate(df['tournament']):\n",
    "    if val == 'FIFA World Cup qualification':\n",
    "        df.iloc[pos, 4] = 'World Cup'\n",
    "    \n",
    "    elif val == 'Friendly':\n",
    "        df.iloc[pos, 4] = 'Friendly'\n",
    "    \n",
    "    else:\n",
    "        df.iloc[pos, 4] = 'Other'"
   ]
  },
  {
   "cell_type": "code",
   "execution_count": 309,
   "metadata": {},
   "outputs": [
    {
     "data": {
      "text/plain": [
       "Friendly     574\n",
       "Other        163\n",
       "World Cup    134\n",
       "Name: tournament, dtype: int64"
      ]
     },
     "execution_count": 309,
     "metadata": {},
     "output_type": "execute_result"
    }
   ],
   "source": [
    "df['tournament'].value_counts()"
   ]
  },
  {
   "cell_type": "markdown",
   "metadata": {},
   "source": [
    "## Exploratory Data Analysis"
   ]
  },
  {
   "cell_type": "markdown",
   "metadata": {},
   "source": [
    "### Univariate Analysis"
   ]
  },
  {
   "cell_type": "code",
   "execution_count": 310,
   "metadata": {},
   "outputs": [
    {
     "data": {
      "image/png": "[encoded data removed]",
      "text/plain": [
       "<Figure size 576x576 with 2 Axes>"
      ]
     },
     "metadata": {},
     "output_type": "display_data"
    }
   ],
   "source": [
    "# boxplots of scores\n",
    "\n",
    "\n",
    "fig, axes = plt.subplots(2, figsize=(8,8))\n",
    "\n",
    "for i, col in enumerate(['home_score', 'away_score']):\n",
    "    sns.boxplot(data=df, y=col, ax=axes[i])\n",
    "    ax.set_title(i)\n",
    "    ax.set_xlabel(col)\n",
    "    "
   ]
  },
  {
   "cell_type": "markdown",
   "metadata": {},
   "source": [
    "Any goal above five seems to be an outlier. This requires further examination"
   ]
  },
  {
   "cell_type": "code",
   "execution_count": 311,
   "metadata": {},
   "outputs": [
    {
     "data": {
      "text/plain": [
       "(29, 8)"
      ]
     },
     "execution_count": 311,
     "metadata": {},
     "output_type": "execute_result"
    }
   ],
   "source": [
    "df[(df['home_score'] > 5) | (df['away_score'] > 5)].shape"
   ]
  },
  {
   "cell_type": "markdown",
   "metadata": {},
   "source": [
    "29 entries out of 871 are not that big of a loss. The outliers will be dropped"
   ]
  },
  {
   "cell_type": "code",
   "execution_count": 312,
   "metadata": {},
   "outputs": [],
   "source": [
    "df = df[~((df['home_score'] > 5) | (df['away_score'] > 5))]"
   ]
  },
  {
   "cell_type": "code",
   "execution_count": 313,
   "metadata": {},
   "outputs": [
    {
     "data": {
      "image/png": "[encoded data removed]",
      "text/plain": [
       "<Figure size 576x396 with 1 Axes>"
      ]
     },
     "metadata": {},
     "output_type": "display_data"
    }
   ],
   "source": [
    "df['tournament'].value_counts().plot(kind='pie', autopct='%1.1f%%', shadow=True, explode=(0.4, 0.3, 0))\n",
    "plt.show()"
   ]
  },
  {
   "cell_type": "code",
   "execution_count": 314,
   "metadata": {},
   "outputs": [
    {
     "data": {
      "image/png": "[encoded data removed]",
      "text/plain": [
       "<Figure size 576x396 with 1 Axes>"
      ]
     },
     "metadata": {},
     "output_type": "display_data"
    }
   ],
   "source": [
    "df['status'].value_counts().plot(kind='pie', autopct='%1.1f%%',\n",
    "                                 shadow=True, colors=['pink', 'cyan', 'yellow'],\n",
    "                                explode=(0.1, 0.2, 0))\n",
    "plt.show()"
   ]
  },
  {
   "cell_type": "code",
   "execution_count": 315,
   "metadata": {},
   "outputs": [
    {
     "data": {
      "image/png": "[encoded data removed]",
      "text/plain": [
       "<Figure size 360x360 with 1 Axes>"
      ]
     },
     "metadata": {},
     "output_type": "display_data"
    }
   ],
   "source": [
    "# home score number distribution\n",
    "\n",
    "sns.displot(data=df, x='home_score', palette='pastel')\n",
    "plt.title(\"Home scores\")\n",
    "plt.show()"
   ]
  },
  {
   "cell_type": "code",
   "execution_count": 316,
   "metadata": {},
   "outputs": [
    {
     "data": {
      "image/png": "[encoded data removed]",
      "text/plain": [
       "<Figure size 360x360 with 1 Axes>"
      ]
     },
     "metadata": {},
     "output_type": "display_data"
    }
   ],
   "source": [
    "# away score distributions\n",
    "\n",
    "sns.displot(data=df, x='away_score', palette='pastel')\n",
    "plt.title(\"Away scores\")\n",
    "plt.show()"
   ]
  },
  {
   "cell_type": "markdown",
   "metadata": {},
   "source": [
    "**Insights**\n",
    "\n",
    "From the two above plots:\n",
    "\n",
    "* Majority of away teams left the game without scoring a single goal\n",
    "* Most home teams scored at least one goal in their matches"
   ]
  },
  {
   "cell_type": "code",
   "execution_count": 317,
   "metadata": {},
   "outputs": [
    {
     "data": {
      "text/html": [
       "<div>\n",
       "<style scoped>\n",
       "    .dataframe tbody tr th:only-of-type {\n",
       "        vertical-align: middle;\n",
       "    }\n",
       "\n",
       "    .dataframe tbody tr th {\n",
       "        vertical-align: top;\n",
       "    }\n",
       "\n",
       "    .dataframe thead th {\n",
       "        text-align: right;\n",
       "    }\n",
       "</style>\n",
       "<table border=\"1\" class=\"dataframe\">\n",
       "  <thead>\n",
       "    <tr style=\"text-align: right;\">\n",
       "      <th></th>\n",
       "      <th>count</th>\n",
       "      <th>mean</th>\n",
       "      <th>std</th>\n",
       "      <th>min</th>\n",
       "      <th>25%</th>\n",
       "      <th>50%</th>\n",
       "      <th>75%</th>\n",
       "      <th>max</th>\n",
       "    </tr>\n",
       "  </thead>\n",
       "  <tbody>\n",
       "    <tr>\n",
       "      <th>home_score</th>\n",
       "      <td>842.0</td>\n",
       "      <td>1.444181</td>\n",
       "      <td>1.258444</td>\n",
       "      <td>0.0</td>\n",
       "      <td>0.0</td>\n",
       "      <td>1.0</td>\n",
       "      <td>2.0</td>\n",
       "      <td>5.0</td>\n",
       "    </tr>\n",
       "    <tr>\n",
       "      <th>away_score</th>\n",
       "      <td>842.0</td>\n",
       "      <td>0.978622</td>\n",
       "      <td>1.046832</td>\n",
       "      <td>0.0</td>\n",
       "      <td>0.0</td>\n",
       "      <td>1.0</td>\n",
       "      <td>2.0</td>\n",
       "      <td>5.0</td>\n",
       "    </tr>\n",
       "  </tbody>\n",
       "</table>\n",
       "</div>"
      ],
      "text/plain": [
       "            count      mean       std  min  25%  50%  75%  max\n",
       "home_score  842.0  1.444181  1.258444  0.0  0.0  1.0  2.0  5.0\n",
       "away_score  842.0  0.978622  1.046832  0.0  0.0  1.0  2.0  5.0"
      ]
     },
     "execution_count": 317,
     "metadata": {},
     "output_type": "execute_result"
    }
   ],
   "source": [
    "# description of the two numerical columns\n",
    "\n",
    "df[['home_score', 'away_score']].describe().T"
   ]
  },
  {
   "cell_type": "code",
   "execution_count": 318,
   "metadata": {},
   "outputs": [
    {
     "name": "stdout",
     "output_type": "stream",
     "text": [
      "Home score kurtosis:  0.2047522611472985\n",
      "Away score kurtosis:  1.1215373214921227\n"
     ]
    }
   ],
   "source": [
    "# kurtosis of the two distributions\n",
    "\n",
    "print(\"Home score kurtosis: \",df['home_score'].kurt())\n",
    "\n",
    "print(\"Away score kurtosis: \", df['away_score'].kurt())"
   ]
  },
  {
   "cell_type": "code",
   "execution_count": 319,
   "metadata": {},
   "outputs": [],
   "source": [
    "# The two are very light tailed when compared to normal distributions"
   ]
  },
  {
   "cell_type": "markdown",
   "metadata": {},
   "source": [
    "## Data Preparation for Modelling"
   ]
  },
  {
   "cell_type": "code",
   "execution_count": 320,
   "metadata": {},
   "outputs": [],
   "source": [
    "# label encoding categorical variables\n",
    "\n",
    "encoder = LabelEncoder()"
   ]
  },
  {
   "cell_type": "code",
   "execution_count": 321,
   "metadata": {},
   "outputs": [],
   "source": [
    "# status column\n",
    "\n",
    "encoder.fit(df['status'])\n",
    "s_class = encoder.classes_\n",
    "df['status'] = encoder.transform(df['status'])\n"
   ]
  },
  {
   "cell_type": "code",
   "execution_count": 322,
   "metadata": {},
   "outputs": [],
   "source": [
    "# tournament column\n",
    "encoder.fit(df['tournament'])\n",
    "df['tournament'] = encoder.transform(df['tournament'])\n",
    "t_class = encoder.classes_"
   ]
  },
  {
   "cell_type": "markdown",
   "metadata": {},
   "source": [
    "## Models"
   ]
  },
  {
   "cell_type": "markdown",
   "metadata": {},
   "source": [
    "### Polynomial Regression"
   ]
  },
  {
   "cell_type": "markdown",
   "metadata": {},
   "source": [
    "#### Model 1"
   ]
  },
  {
   "cell_type": "markdown",
   "metadata": {},
   "source": [
    "* Predict how many goals the home team scores"
   ]
  },
  {
   "cell_type": "code",
   "execution_count": 323,
   "metadata": {},
   "outputs": [],
   "source": [
    "# feature selection\n",
    "\n",
    "X = df[['home_rank', 'away_rank', 'tournament']]\n",
    "y = df['home_score']"
   ]
  },
  {
   "cell_type": "code",
   "execution_count": 324,
   "metadata": {},
   "outputs": [
    {
     "data": {
      "text/plain": [
       "LinearRegression()"
      ]
     },
     "execution_count": 324,
     "metadata": {},
     "output_type": "execute_result"
    }
   ],
   "source": [
    "# baseline linear model\n",
    "\n",
    "base = LinearRegression()\n",
    "base.fit(X, y)"
   ]
  },
  {
   "cell_type": "code",
   "execution_count": 325,
   "metadata": {},
   "outputs": [
    {
     "data": {
      "text/plain": [
       "1.348919814409707"
      ]
     },
     "execution_count": 325,
     "metadata": {},
     "output_type": "execute_result"
    }
   ],
   "source": [
    "# Base model performance\n",
    "\n",
    "mean_squared_error(y, base.predict(X))"
   ]
  },
  {
   "cell_type": "code",
   "execution_count": 326,
   "metadata": {},
   "outputs": [],
   "source": [
    "# Transforming the X variable into a polynomial one\n",
    "\n",
    "X_poly = PolynomialFeatures(degree=2).fit_transform(X)\n",
    "\n",
    "\n",
    "# train and test splits\n",
    "\n",
    "X_train, X_test, y_train, y_test = train_test_split(X_poly, y, test_size=.2, random_state=23)"
   ]
  },
  {
   "cell_type": "code",
   "execution_count": 327,
   "metadata": {},
   "outputs": [
    {
     "data": {
      "text/plain": [
       "LinearRegression()"
      ]
     },
     "execution_count": 327,
     "metadata": {},
     "output_type": "execute_result"
    }
   ],
   "source": [
    "# Fitting the Polynomial model\n",
    "\n",
    "poly_model = LinearRegression()\n",
    "poly_model.fit(X_train, y_train)"
   ]
  },
  {
   "cell_type": "code",
   "execution_count": 328,
   "metadata": {},
   "outputs": [
    {
     "data": {
      "text/plain": [
       "1.5667025842571198"
      ]
     },
     "execution_count": 328,
     "metadata": {},
     "output_type": "execute_result"
    }
   ],
   "source": [
    "# Assessing it's performance\n",
    "\n",
    "mean_squared_error(y_test, poly_model.predict(X_test))"
   ]
  },
  {
   "cell_type": "code",
   "execution_count": 329,
   "metadata": {},
   "outputs": [
    {
     "data": {
      "text/plain": [
       "2.1220842372629964"
      ]
     },
     "execution_count": 329,
     "metadata": {},
     "output_type": "execute_result"
    }
   ],
   "source": [
    "# Altering the Polynomial degree\n",
    "\n",
    "X_poly = PolynomialFeatures(degree=4).fit_transform(X)\n",
    "\n",
    "\n",
    "# train and test splits\n",
    "\n",
    "X_train, X_test, y_train, y_test = train_test_split(X_poly, y, test_size=.2, random_state=23)\n",
    "\n",
    "\n",
    "# Fitting and assessing\n",
    "\n",
    "poly_model = LinearRegression()\n",
    "poly_model.fit(X_train, y_train)\n",
    "\n",
    "\n",
    "mean_squared_error(y_test, poly_model.predict(X_test))"
   ]
  },
  {
   "cell_type": "markdown",
   "metadata": {},
   "source": [
    "With increasing degree, the model performs worse. In fact the polynomial model is worse than a baseline linear model on all accounts"
   ]
  },
  {
   "cell_type": "markdown",
   "metadata": {},
   "source": [
    "#### Model 2"
   ]
  },
  {
   "cell_type": "markdown",
   "metadata": {},
   "source": [
    "* Predicting the away score"
   ]
  },
  {
   "cell_type": "code",
   "execution_count": 330,
   "metadata": {},
   "outputs": [],
   "source": [
    "# feature selection\n",
    "\n",
    "X = df[['home_rank', 'away_rank', 'tournament']]\n",
    "y = df['away_score']"
   ]
  },
  {
   "cell_type": "code",
   "execution_count": 331,
   "metadata": {},
   "outputs": [
    {
     "data": {
      "text/plain": [
       "1.0040421056662376"
      ]
     },
     "execution_count": 331,
     "metadata": {},
     "output_type": "execute_result"
    }
   ],
   "source": [
    "# baseline linear model\n",
    "\n",
    "base = LinearRegression()\n",
    "base.fit(X, y)\n",
    "\n",
    "# Base model performance\n",
    "\n",
    "mean_squared_error(y, base.predict(X))"
   ]
  },
  {
   "cell_type": "code",
   "execution_count": 332,
   "metadata": {},
   "outputs": [],
   "source": [
    "# Transforming the X variable into a polynomial one\n",
    "\n",
    "X_poly = PolynomialFeatures(degree=2).fit_transform(X)\n",
    "\n",
    "\n",
    "# train and test splits\n",
    "\n",
    "X_train, X_test, y_train, y_test = train_test_split(X_poly, y, test_size=.2, random_state=23)"
   ]
  },
  {
   "cell_type": "code",
   "execution_count": 333,
   "metadata": {},
   "outputs": [
    {
     "data": {
      "text/plain": [
       "0.9012475092570612"
      ]
     },
     "execution_count": 333,
     "metadata": {},
     "output_type": "execute_result"
    }
   ],
   "source": [
    "# Fitting the Polynomial model\n",
    "\n",
    "poly_model = LinearRegression()\n",
    "poly_model.fit(X_train, y_train)\n",
    "\n",
    "# Assessing it's performance\n",
    "\n",
    "mean_squared_error(y_test, poly_model.predict(X_test))"
   ]
  },
  {
   "cell_type": "code",
   "execution_count": 334,
   "metadata": {},
   "outputs": [
    {
     "data": {
      "text/plain": [
       "0.8859786668044258"
      ]
     },
     "execution_count": 334,
     "metadata": {},
     "output_type": "execute_result"
    }
   ],
   "source": [
    "# Altering the Polynomial degree\n",
    "\n",
    "X_poly = PolynomialFeatures(degree=3).fit_transform(X)\n",
    "\n",
    "\n",
    "# train and test splits\n",
    "\n",
    "X_train, X_test, y_train, y_test = train_test_split(X_poly, y, test_size=.2, random_state=23)\n",
    "\n",
    "\n",
    "# Fitting and assessing\n",
    "\n",
    "poly_model = LinearRegression()\n",
    "poly_model.fit(X_train, y_train)\n",
    "\n",
    "\n",
    "mean_squared_error(y_test, poly_model.predict(X_test))"
   ]
  },
  {
   "cell_type": "markdown",
   "metadata": {},
   "source": [
    "* Surprisingly, when it comes to predicting the away score, the polynomial model does better than it's baselines counterpart. The degree can only be increased to 3 before the MSE gets worse"
   ]
  },
  {
   "cell_type": "markdown",
   "metadata": {},
   "source": [
    "### Logistic Regression"
   ]
  },
  {
   "cell_type": "markdown",
   "metadata": {},
   "source": [
    "* Match status prediction from home team perspective"
   ]
  },
  {
   "cell_type": "code",
   "execution_count": 350,
   "metadata": {},
   "outputs": [],
   "source": [
    "# Feature selection\n",
    "\n",
    "X = df[['home_rank', 'away_rank',  'tournament']]\n",
    "y = df['status']"
   ]
  },
  {
   "cell_type": "code",
   "execution_count": 351,
   "metadata": {},
   "outputs": [],
   "source": [
    "# Train test splits\n",
    "\n",
    "X_train, X_test, y_train, y_test = train_test_split(X, y, test_size=.2, random_state=23)"
   ]
  },
  {
   "cell_type": "code",
   "execution_count": 352,
   "metadata": {},
   "outputs": [
    {
     "data": {
      "text/plain": [
       "LogisticRegression(n_jobs=-1)"
      ]
     },
     "execution_count": 352,
     "metadata": {},
     "output_type": "execute_result"
    }
   ],
   "source": [
    "# Model initialization and fitting\n",
    "\n",
    "log_model = LogisticRegression(n_jobs=-1)\n",
    "\n",
    "log_model.fit(X_train, y_train)"
   ]
  },
  {
   "cell_type": "code",
   "execution_count": 353,
   "metadata": {},
   "outputs": [
    {
     "data": {
      "image/png": "[encoded data removed]",
      "text/plain": [
       "<Figure size 576x396 with 2 Axes>"
      ]
     },
     "metadata": {},
     "output_type": "display_data"
    }
   ],
   "source": [
    "# Assessing the model performance\n",
    "\n",
    "cm = confusion_matrix(y_test, log_model.predict(X_test))\n",
    "\n",
    "sns.heatmap(cm, annot=True)\n",
    "plt.xticks(ticks=[0,1,2], labels=s_class)\n",
    "plt.yticks(ticks=[0,1,2], labels=s_class)\n",
    "plt.show()"
   ]
  },
  {
   "cell_type": "code",
   "execution_count": 354,
   "metadata": {},
   "outputs": [
    {
     "name": "stdout",
     "output_type": "stream",
     "text": [
      "              precision    recall  f1-score   support\n",
      "\n",
      "           0       0.00      0.00      0.00        48\n",
      "           1       0.43      0.45      0.44        40\n",
      "           2       0.57      0.90      0.70        81\n",
      "\n",
      "    accuracy                           0.54       169\n",
      "   macro avg       0.33      0.45      0.38       169\n",
      "weighted avg       0.38      0.54      0.44       169\n",
      "\n"
     ]
    },
    {
     "name": "stderr",
     "output_type": "stream",
     "text": [
      "C:\\Users\\LENOVO\\anaconda3\\lib\\site-packages\\sklearn\\metrics\\_classification.py:1221: UndefinedMetricWarning: Precision and F-score are ill-defined and being set to 0.0 in labels with no predicted samples. Use `zero_division` parameter to control this behavior.\n",
      "  _warn_prf(average, modifier, msg_start, len(result))\n"
     ]
    }
   ],
   "source": [
    "# classification report\n",
    "print(classification_report(y_test, log_model.predict(X_test)))"
   ]
  },
  {
   "cell_type": "markdown",
   "metadata": {},
   "source": [
    "## Conclusions"
   ]
  },
  {
   "cell_type": "markdown",
   "metadata": {},
   "source": [
    "From the above models, Logisitic regression performs better in term of predicting the outcome of the match. However, more data would be needed in order to better train the model to achieve better accuracies"
   ]
  }
 ],
 "metadata": {
  "kernelspec": {
   "display_name": "Python 3",
   "language": "python",
   "name": "python3"
  },
  "language_info": {
   "codemirror_mode": {
    "name": "ipython",
    "version": 3
   },
   "file_extension": ".py",
   "mimetype": "text/x-python",
   "name": "python",
   "nbconvert_exporter": "python",
   "pygments_lexer": "ipython3",
   "version": "3.8.5"
  }
 },
 "nbformat": 4,
 "nbformat_minor": 4
}
